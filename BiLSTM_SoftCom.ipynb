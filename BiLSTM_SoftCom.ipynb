{
  "nbformat": 4,
  "nbformat_minor": 0,
  "metadata": {
    "colab": {
      "provenance": [],
      "gpuType": "T4"
    },
    "kernelspec": {
      "name": "python3",
      "display_name": "Python 3"
    },
    "language_info": {
      "name": "python"
    },
    "accelerator": "GPU"
  },
  "cells": [
    {
      "cell_type": "code",
      "execution_count": null,
      "metadata": {
        "colab": {
          "base_uri": "https://localhost:8080/"
        },
        "id": "LyGLBQd4sy9z",
        "outputId": "e2ded86a-9c1e-41f4-87b0-7831de53d90a"
      },
      "outputs": [
        {
          "output_type": "stream",
          "name": "stdout",
          "text": [
            "Drive already mounted at /content/gdrive; to attempt to forcibly remount, call drive.mount(\"/content/gdrive\", force_remount=True).\n"
          ]
        }
      ],
      "source": [
        "from google.colab import drive\n",
        "\n",
        "drive.mount('/content/gdrive')\n",
        "#dataset_path = '/content/gdrive/MyDrive/SoftCom Lab/Dataset/train2.txt'"
      ]
    },
    {
      "cell_type": "code",
      "source": [
        "import re\n",
        "import tqdm\n",
        "import numpy as np\n",
        "import pandas as pd\n",
        "import seaborn as sns\n",
        "import matplotlib.pyplot as plt"
      ],
      "metadata": {
        "id": "kNWf8Ydns7vb"
      },
      "execution_count": null,
      "outputs": []
    },
    {
      "cell_type": "code",
      "source": [
        "dataset_path = '/content/gdrive/MyDrive/SoftCom Lab/Dataset/train_new.txt'\n",
        "\n",
        "train_df = pd.read_csv(dataset_path, sep='\\t', header=None, names=['Tag', 'Comment'])\n",
        "\n",
        "test_df = pd.read_csv('/content/gdrive/MyDrive/SoftCom Lab/Dataset/test2.txt', sep='\\t', header=None, names=['Tag', 'Comment'])"
      ],
      "metadata": {
        "id": "Kjo4jmqjs7zi"
      },
      "execution_count": null,
      "outputs": []
    },
    {
      "cell_type": "code",
      "source": [
        "train_df.head()"
      ],
      "metadata": {
        "colab": {
          "base_uri": "https://localhost:8080/",
          "height": 206
        },
        "id": "L2XHLwLPs72H",
        "outputId": "6c0d4c8d-df36-4c11-cb0f-479cf43be326"
      },
      "execution_count": null,
      "outputs": [
        {
          "output_type": "execute_result",
          "data": {
            "text/plain": [
              "     Tag                                            Comment\n",
              "0    sad  বরাবর, মাননীয় প্রধানমন্ত্রী গণপ্রজাতন্ত্রী বা...\n",
              "1    sad  তদন্ত করে লাভ কী ? কোন দিন কোন তদন্তের পর কিছু...\n",
              "2  angry   দেশকি মধ্যম আয়ের দেশে রুপান্তর হচ্ছে নাকি মগে...\n",
              "3  happy   আমি গর্বিত আমি মুসলিম। আমি সংগ্রামী। আমি যোদ্...\n",
              "4  angry                        রাতের বেলা আবার কিসের সকাল।"
            ],
            "text/html": [
              "\n",
              "  <div id=\"df-0d275196-9f00-4785-bb22-2f5d178b0011\" class=\"colab-df-container\">\n",
              "    <div>\n",
              "<style scoped>\n",
              "    .dataframe tbody tr th:only-of-type {\n",
              "        vertical-align: middle;\n",
              "    }\n",
              "\n",
              "    .dataframe tbody tr th {\n",
              "        vertical-align: top;\n",
              "    }\n",
              "\n",
              "    .dataframe thead th {\n",
              "        text-align: right;\n",
              "    }\n",
              "</style>\n",
              "<table border=\"1\" class=\"dataframe\">\n",
              "  <thead>\n",
              "    <tr style=\"text-align: right;\">\n",
              "      <th></th>\n",
              "      <th>Tag</th>\n",
              "      <th>Comment</th>\n",
              "    </tr>\n",
              "  </thead>\n",
              "  <tbody>\n",
              "    <tr>\n",
              "      <th>0</th>\n",
              "      <td>sad</td>\n",
              "      <td>বরাবর, মাননীয় প্রধানমন্ত্রী গণপ্রজাতন্ত্রী বা...</td>\n",
              "    </tr>\n",
              "    <tr>\n",
              "      <th>1</th>\n",
              "      <td>sad</td>\n",
              "      <td>তদন্ত করে লাভ কী ? কোন দিন কোন তদন্তের পর কিছু...</td>\n",
              "    </tr>\n",
              "    <tr>\n",
              "      <th>2</th>\n",
              "      <td>angry</td>\n",
              "      <td>দেশকি মধ্যম আয়ের দেশে রুপান্তর হচ্ছে নাকি মগে...</td>\n",
              "    </tr>\n",
              "    <tr>\n",
              "      <th>3</th>\n",
              "      <td>happy</td>\n",
              "      <td>আমি গর্বিত আমি মুসলিম। আমি সংগ্রামী। আমি যোদ্...</td>\n",
              "    </tr>\n",
              "    <tr>\n",
              "      <th>4</th>\n",
              "      <td>angry</td>\n",
              "      <td>রাতের বেলা আবার কিসের সকাল।</td>\n",
              "    </tr>\n",
              "  </tbody>\n",
              "</table>\n",
              "</div>\n",
              "    <div class=\"colab-df-buttons\">\n",
              "\n",
              "  <div class=\"colab-df-container\">\n",
              "    <button class=\"colab-df-convert\" onclick=\"convertToInteractive('df-0d275196-9f00-4785-bb22-2f5d178b0011')\"\n",
              "            title=\"Convert this dataframe to an interactive table.\"\n",
              "            style=\"display:none;\">\n",
              "\n",
              "  <svg xmlns=\"http://www.w3.org/2000/svg\" height=\"24px\" viewBox=\"0 -960 960 960\">\n",
              "    <path d=\"M120-120v-720h720v720H120Zm60-500h600v-160H180v160Zm220 220h160v-160H400v160Zm0 220h160v-160H400v160ZM180-400h160v-160H180v160Zm440 0h160v-160H620v160ZM180-180h160v-160H180v160Zm440 0h160v-160H620v160Z\"/>\n",
              "  </svg>\n",
              "    </button>\n",
              "\n",
              "  <style>\n",
              "    .colab-df-container {\n",
              "      display:flex;\n",
              "      gap: 12px;\n",
              "    }\n",
              "\n",
              "    .colab-df-convert {\n",
              "      background-color: #E8F0FE;\n",
              "      border: none;\n",
              "      border-radius: 50%;\n",
              "      cursor: pointer;\n",
              "      display: none;\n",
              "      fill: #1967D2;\n",
              "      height: 32px;\n",
              "      padding: 0 0 0 0;\n",
              "      width: 32px;\n",
              "    }\n",
              "\n",
              "    .colab-df-convert:hover {\n",
              "      background-color: #E2EBFA;\n",
              "      box-shadow: 0px 1px 2px rgba(60, 64, 67, 0.3), 0px 1px 3px 1px rgba(60, 64, 67, 0.15);\n",
              "      fill: #174EA6;\n",
              "    }\n",
              "\n",
              "    .colab-df-buttons div {\n",
              "      margin-bottom: 4px;\n",
              "    }\n",
              "\n",
              "    [theme=dark] .colab-df-convert {\n",
              "      background-color: #3B4455;\n",
              "      fill: #D2E3FC;\n",
              "    }\n",
              "\n",
              "    [theme=dark] .colab-df-convert:hover {\n",
              "      background-color: #434B5C;\n",
              "      box-shadow: 0px 1px 3px 1px rgba(0, 0, 0, 0.15);\n",
              "      filter: drop-shadow(0px 1px 2px rgba(0, 0, 0, 0.3));\n",
              "      fill: #FFFFFF;\n",
              "    }\n",
              "  </style>\n",
              "\n",
              "    <script>\n",
              "      const buttonEl =\n",
              "        document.querySelector('#df-0d275196-9f00-4785-bb22-2f5d178b0011 button.colab-df-convert');\n",
              "      buttonEl.style.display =\n",
              "        google.colab.kernel.accessAllowed ? 'block' : 'none';\n",
              "\n",
              "      async function convertToInteractive(key) {\n",
              "        const element = document.querySelector('#df-0d275196-9f00-4785-bb22-2f5d178b0011');\n",
              "        const dataTable =\n",
              "          await google.colab.kernel.invokeFunction('convertToInteractive',\n",
              "                                                    [key], {});\n",
              "        if (!dataTable) return;\n",
              "\n",
              "        const docLinkHtml = 'Like what you see? Visit the ' +\n",
              "          '<a target=\"_blank\" href=https://colab.research.google.com/notebooks/data_table.ipynb>data table notebook</a>'\n",
              "          + ' to learn more about interactive tables.';\n",
              "        element.innerHTML = '';\n",
              "        dataTable['output_type'] = 'display_data';\n",
              "        await google.colab.output.renderOutput(dataTable, element);\n",
              "        const docLink = document.createElement('div');\n",
              "        docLink.innerHTML = docLinkHtml;\n",
              "        element.appendChild(docLink);\n",
              "      }\n",
              "    </script>\n",
              "  </div>\n",
              "\n",
              "\n",
              "<div id=\"df-80b0221d-8379-45a7-9ba9-d95a2c4d077f\">\n",
              "  <button class=\"colab-df-quickchart\" onclick=\"quickchart('df-80b0221d-8379-45a7-9ba9-d95a2c4d077f')\"\n",
              "            title=\"Suggest charts\"\n",
              "            style=\"display:none;\">\n",
              "\n",
              "<svg xmlns=\"http://www.w3.org/2000/svg\" height=\"24px\"viewBox=\"0 0 24 24\"\n",
              "     width=\"24px\">\n",
              "    <g>\n",
              "        <path d=\"M19 3H5c-1.1 0-2 .9-2 2v14c0 1.1.9 2 2 2h14c1.1 0 2-.9 2-2V5c0-1.1-.9-2-2-2zM9 17H7v-7h2v7zm4 0h-2V7h2v10zm4 0h-2v-4h2v4z\"/>\n",
              "    </g>\n",
              "</svg>\n",
              "  </button>\n",
              "\n",
              "<style>\n",
              "  .colab-df-quickchart {\n",
              "      --bg-color: #E8F0FE;\n",
              "      --fill-color: #1967D2;\n",
              "      --hover-bg-color: #E2EBFA;\n",
              "      --hover-fill-color: #174EA6;\n",
              "      --disabled-fill-color: #AAA;\n",
              "      --disabled-bg-color: #DDD;\n",
              "  }\n",
              "\n",
              "  [theme=dark] .colab-df-quickchart {\n",
              "      --bg-color: #3B4455;\n",
              "      --fill-color: #D2E3FC;\n",
              "      --hover-bg-color: #434B5C;\n",
              "      --hover-fill-color: #FFFFFF;\n",
              "      --disabled-bg-color: #3B4455;\n",
              "      --disabled-fill-color: #666;\n",
              "  }\n",
              "\n",
              "  .colab-df-quickchart {\n",
              "    background-color: var(--bg-color);\n",
              "    border: none;\n",
              "    border-radius: 50%;\n",
              "    cursor: pointer;\n",
              "    display: none;\n",
              "    fill: var(--fill-color);\n",
              "    height: 32px;\n",
              "    padding: 0;\n",
              "    width: 32px;\n",
              "  }\n",
              "\n",
              "  .colab-df-quickchart:hover {\n",
              "    background-color: var(--hover-bg-color);\n",
              "    box-shadow: 0 1px 2px rgba(60, 64, 67, 0.3), 0 1px 3px 1px rgba(60, 64, 67, 0.15);\n",
              "    fill: var(--button-hover-fill-color);\n",
              "  }\n",
              "\n",
              "  .colab-df-quickchart-complete:disabled,\n",
              "  .colab-df-quickchart-complete:disabled:hover {\n",
              "    background-color: var(--disabled-bg-color);\n",
              "    fill: var(--disabled-fill-color);\n",
              "    box-shadow: none;\n",
              "  }\n",
              "\n",
              "  .colab-df-spinner {\n",
              "    border: 2px solid var(--fill-color);\n",
              "    border-color: transparent;\n",
              "    border-bottom-color: var(--fill-color);\n",
              "    animation:\n",
              "      spin 1s steps(1) infinite;\n",
              "  }\n",
              "\n",
              "  @keyframes spin {\n",
              "    0% {\n",
              "      border-color: transparent;\n",
              "      border-bottom-color: var(--fill-color);\n",
              "      border-left-color: var(--fill-color);\n",
              "    }\n",
              "    20% {\n",
              "      border-color: transparent;\n",
              "      border-left-color: var(--fill-color);\n",
              "      border-top-color: var(--fill-color);\n",
              "    }\n",
              "    30% {\n",
              "      border-color: transparent;\n",
              "      border-left-color: var(--fill-color);\n",
              "      border-top-color: var(--fill-color);\n",
              "      border-right-color: var(--fill-color);\n",
              "    }\n",
              "    40% {\n",
              "      border-color: transparent;\n",
              "      border-right-color: var(--fill-color);\n",
              "      border-top-color: var(--fill-color);\n",
              "    }\n",
              "    60% {\n",
              "      border-color: transparent;\n",
              "      border-right-color: var(--fill-color);\n",
              "    }\n",
              "    80% {\n",
              "      border-color: transparent;\n",
              "      border-right-color: var(--fill-color);\n",
              "      border-bottom-color: var(--fill-color);\n",
              "    }\n",
              "    90% {\n",
              "      border-color: transparent;\n",
              "      border-bottom-color: var(--fill-color);\n",
              "    }\n",
              "  }\n",
              "</style>\n",
              "\n",
              "  <script>\n",
              "    async function quickchart(key) {\n",
              "      const quickchartButtonEl =\n",
              "        document.querySelector('#' + key + ' button');\n",
              "      quickchartButtonEl.disabled = true;  // To prevent multiple clicks.\n",
              "      quickchartButtonEl.classList.add('colab-df-spinner');\n",
              "      try {\n",
              "        const charts = await google.colab.kernel.invokeFunction(\n",
              "            'suggestCharts', [key], {});\n",
              "      } catch (error) {\n",
              "        console.error('Error during call to suggestCharts:', error);\n",
              "      }\n",
              "      quickchartButtonEl.classList.remove('colab-df-spinner');\n",
              "      quickchartButtonEl.classList.add('colab-df-quickchart-complete');\n",
              "    }\n",
              "    (() => {\n",
              "      let quickchartButtonEl =\n",
              "        document.querySelector('#df-80b0221d-8379-45a7-9ba9-d95a2c4d077f button');\n",
              "      quickchartButtonEl.style.display =\n",
              "        google.colab.kernel.accessAllowed ? 'block' : 'none';\n",
              "    })();\n",
              "  </script>\n",
              "</div>\n",
              "    </div>\n",
              "  </div>\n"
            ]
          },
          "metadata": {},
          "execution_count": 47
        }
      ]
    },
    {
      "cell_type": "code",
      "source": [
        "train_df['Labels'] = None\n",
        "for i in range(len(train_df)):\n",
        "  if train_df.Tag[i] == 'happy':\n",
        "    train_df.Labels[i]=0;\n",
        "  elif train_df.Tag[i] == 'sad':\n",
        "    train_df.Labels[i]=1;\n",
        "  elif train_df.Tag[i] == 'fear':\n",
        "    train_df.Labels[i]=2;\n",
        "  elif train_df.Tag[i] == 'angry':\n",
        "    train_df.Labels[i]=3;\n",
        "  elif train_df.Tag[i] == 'surprise':\n",
        "    train_df.Labels[i]=4;\n",
        "  elif train_df.Tag[i] == 'disgust':\n",
        "    train_df.Labels[i]=5;\n",
        "test_df['Labels'] = None\n",
        "for i in range(len(test_df)):\n",
        "  if test_df.Tag[i] == 'happy':\n",
        "    test_df.Labels[i]=0;\n",
        "  elif test_df.Tag[i] == 'sad':\n",
        "    test_df.Labels[i]=1;\n",
        "  elif test_df.Tag[i] == 'fear':\n",
        "    test_df.Labels[i]=2;\n",
        "  elif test_df.Tag[i] == 'angry':\n",
        "    test_df.Labels[i]=3;\n",
        "  elif test_df.Tag[i] == 'surprise':\n",
        "    test_df.Labels[i]=4;\n",
        "  elif test_df.Tag[i] == 'disgust':\n",
        "    test_df.Labels[i]=5;"
      ],
      "metadata": {
        "id": "MiM7uGa_xpQl"
      },
      "execution_count": null,
      "outputs": []
    },
    {
      "cell_type": "code",
      "source": [
        "train_df.head()"
      ],
      "metadata": {
        "colab": {
          "base_uri": "https://localhost:8080/",
          "height": 206
        },
        "id": "7ehu3cs80Fmv",
        "outputId": "fa11f399-aa1f-4956-818f-9355417c3e44"
      },
      "execution_count": null,
      "outputs": [
        {
          "output_type": "execute_result",
          "data": {
            "text/plain": [
              "     Tag                                            Comment Labels\n",
              "0    sad  বরাবর, মাননীয় প্রধানমন্ত্রী গণপ্রজাতন্ত্রী বা...      1\n",
              "1    sad  তদন্ত করে লাভ কী ? কোন দিন কোন তদন্তের পর কিছু...      1\n",
              "2  angry   দেশকি মধ্যম আয়ের দেশে রুপান্তর হচ্ছে নাকি মগে...      3\n",
              "3  happy   আমি গর্বিত আমি মুসলিম। আমি সংগ্রামী। আমি যোদ্...      0\n",
              "4  angry                        রাতের বেলা আবার কিসের সকাল।      3"
            ],
            "text/html": [
              "\n",
              "  <div id=\"df-7d120299-dde1-4f01-b821-3575372b44f9\" class=\"colab-df-container\">\n",
              "    <div>\n",
              "<style scoped>\n",
              "    .dataframe tbody tr th:only-of-type {\n",
              "        vertical-align: middle;\n",
              "    }\n",
              "\n",
              "    .dataframe tbody tr th {\n",
              "        vertical-align: top;\n",
              "    }\n",
              "\n",
              "    .dataframe thead th {\n",
              "        text-align: right;\n",
              "    }\n",
              "</style>\n",
              "<table border=\"1\" class=\"dataframe\">\n",
              "  <thead>\n",
              "    <tr style=\"text-align: right;\">\n",
              "      <th></th>\n",
              "      <th>Tag</th>\n",
              "      <th>Comment</th>\n",
              "      <th>Labels</th>\n",
              "    </tr>\n",
              "  </thead>\n",
              "  <tbody>\n",
              "    <tr>\n",
              "      <th>0</th>\n",
              "      <td>sad</td>\n",
              "      <td>বরাবর, মাননীয় প্রধানমন্ত্রী গণপ্রজাতন্ত্রী বা...</td>\n",
              "      <td>1</td>\n",
              "    </tr>\n",
              "    <tr>\n",
              "      <th>1</th>\n",
              "      <td>sad</td>\n",
              "      <td>তদন্ত করে লাভ কী ? কোন দিন কোন তদন্তের পর কিছু...</td>\n",
              "      <td>1</td>\n",
              "    </tr>\n",
              "    <tr>\n",
              "      <th>2</th>\n",
              "      <td>angry</td>\n",
              "      <td>দেশকি মধ্যম আয়ের দেশে রুপান্তর হচ্ছে নাকি মগে...</td>\n",
              "      <td>3</td>\n",
              "    </tr>\n",
              "    <tr>\n",
              "      <th>3</th>\n",
              "      <td>happy</td>\n",
              "      <td>আমি গর্বিত আমি মুসলিম। আমি সংগ্রামী। আমি যোদ্...</td>\n",
              "      <td>0</td>\n",
              "    </tr>\n",
              "    <tr>\n",
              "      <th>4</th>\n",
              "      <td>angry</td>\n",
              "      <td>রাতের বেলা আবার কিসের সকাল।</td>\n",
              "      <td>3</td>\n",
              "    </tr>\n",
              "  </tbody>\n",
              "</table>\n",
              "</div>\n",
              "    <div class=\"colab-df-buttons\">\n",
              "\n",
              "  <div class=\"colab-df-container\">\n",
              "    <button class=\"colab-df-convert\" onclick=\"convertToInteractive('df-7d120299-dde1-4f01-b821-3575372b44f9')\"\n",
              "            title=\"Convert this dataframe to an interactive table.\"\n",
              "            style=\"display:none;\">\n",
              "\n",
              "  <svg xmlns=\"http://www.w3.org/2000/svg\" height=\"24px\" viewBox=\"0 -960 960 960\">\n",
              "    <path d=\"M120-120v-720h720v720H120Zm60-500h600v-160H180v160Zm220 220h160v-160H400v160Zm0 220h160v-160H400v160ZM180-400h160v-160H180v160Zm440 0h160v-160H620v160ZM180-180h160v-160H180v160Zm440 0h160v-160H620v160Z\"/>\n",
              "  </svg>\n",
              "    </button>\n",
              "\n",
              "  <style>\n",
              "    .colab-df-container {\n",
              "      display:flex;\n",
              "      gap: 12px;\n",
              "    }\n",
              "\n",
              "    .colab-df-convert {\n",
              "      background-color: #E8F0FE;\n",
              "      border: none;\n",
              "      border-radius: 50%;\n",
              "      cursor: pointer;\n",
              "      display: none;\n",
              "      fill: #1967D2;\n",
              "      height: 32px;\n",
              "      padding: 0 0 0 0;\n",
              "      width: 32px;\n",
              "    }\n",
              "\n",
              "    .colab-df-convert:hover {\n",
              "      background-color: #E2EBFA;\n",
              "      box-shadow: 0px 1px 2px rgba(60, 64, 67, 0.3), 0px 1px 3px 1px rgba(60, 64, 67, 0.15);\n",
              "      fill: #174EA6;\n",
              "    }\n",
              "\n",
              "    .colab-df-buttons div {\n",
              "      margin-bottom: 4px;\n",
              "    }\n",
              "\n",
              "    [theme=dark] .colab-df-convert {\n",
              "      background-color: #3B4455;\n",
              "      fill: #D2E3FC;\n",
              "    }\n",
              "\n",
              "    [theme=dark] .colab-df-convert:hover {\n",
              "      background-color: #434B5C;\n",
              "      box-shadow: 0px 1px 3px 1px rgba(0, 0, 0, 0.15);\n",
              "      filter: drop-shadow(0px 1px 2px rgba(0, 0, 0, 0.3));\n",
              "      fill: #FFFFFF;\n",
              "    }\n",
              "  </style>\n",
              "\n",
              "    <script>\n",
              "      const buttonEl =\n",
              "        document.querySelector('#df-7d120299-dde1-4f01-b821-3575372b44f9 button.colab-df-convert');\n",
              "      buttonEl.style.display =\n",
              "        google.colab.kernel.accessAllowed ? 'block' : 'none';\n",
              "\n",
              "      async function convertToInteractive(key) {\n",
              "        const element = document.querySelector('#df-7d120299-dde1-4f01-b821-3575372b44f9');\n",
              "        const dataTable =\n",
              "          await google.colab.kernel.invokeFunction('convertToInteractive',\n",
              "                                                    [key], {});\n",
              "        if (!dataTable) return;\n",
              "\n",
              "        const docLinkHtml = 'Like what you see? Visit the ' +\n",
              "          '<a target=\"_blank\" href=https://colab.research.google.com/notebooks/data_table.ipynb>data table notebook</a>'\n",
              "          + ' to learn more about interactive tables.';\n",
              "        element.innerHTML = '';\n",
              "        dataTable['output_type'] = 'display_data';\n",
              "        await google.colab.output.renderOutput(dataTable, element);\n",
              "        const docLink = document.createElement('div');\n",
              "        docLink.innerHTML = docLinkHtml;\n",
              "        element.appendChild(docLink);\n",
              "      }\n",
              "    </script>\n",
              "  </div>\n",
              "\n",
              "\n",
              "<div id=\"df-0f2559c4-3583-42fc-b0f1-240c942b9a65\">\n",
              "  <button class=\"colab-df-quickchart\" onclick=\"quickchart('df-0f2559c4-3583-42fc-b0f1-240c942b9a65')\"\n",
              "            title=\"Suggest charts\"\n",
              "            style=\"display:none;\">\n",
              "\n",
              "<svg xmlns=\"http://www.w3.org/2000/svg\" height=\"24px\"viewBox=\"0 0 24 24\"\n",
              "     width=\"24px\">\n",
              "    <g>\n",
              "        <path d=\"M19 3H5c-1.1 0-2 .9-2 2v14c0 1.1.9 2 2 2h14c1.1 0 2-.9 2-2V5c0-1.1-.9-2-2-2zM9 17H7v-7h2v7zm4 0h-2V7h2v10zm4 0h-2v-4h2v4z\"/>\n",
              "    </g>\n",
              "</svg>\n",
              "  </button>\n",
              "\n",
              "<style>\n",
              "  .colab-df-quickchart {\n",
              "      --bg-color: #E8F0FE;\n",
              "      --fill-color: #1967D2;\n",
              "      --hover-bg-color: #E2EBFA;\n",
              "      --hover-fill-color: #174EA6;\n",
              "      --disabled-fill-color: #AAA;\n",
              "      --disabled-bg-color: #DDD;\n",
              "  }\n",
              "\n",
              "  [theme=dark] .colab-df-quickchart {\n",
              "      --bg-color: #3B4455;\n",
              "      --fill-color: #D2E3FC;\n",
              "      --hover-bg-color: #434B5C;\n",
              "      --hover-fill-color: #FFFFFF;\n",
              "      --disabled-bg-color: #3B4455;\n",
              "      --disabled-fill-color: #666;\n",
              "  }\n",
              "\n",
              "  .colab-df-quickchart {\n",
              "    background-color: var(--bg-color);\n",
              "    border: none;\n",
              "    border-radius: 50%;\n",
              "    cursor: pointer;\n",
              "    display: none;\n",
              "    fill: var(--fill-color);\n",
              "    height: 32px;\n",
              "    padding: 0;\n",
              "    width: 32px;\n",
              "  }\n",
              "\n",
              "  .colab-df-quickchart:hover {\n",
              "    background-color: var(--hover-bg-color);\n",
              "    box-shadow: 0 1px 2px rgba(60, 64, 67, 0.3), 0 1px 3px 1px rgba(60, 64, 67, 0.15);\n",
              "    fill: var(--button-hover-fill-color);\n",
              "  }\n",
              "\n",
              "  .colab-df-quickchart-complete:disabled,\n",
              "  .colab-df-quickchart-complete:disabled:hover {\n",
              "    background-color: var(--disabled-bg-color);\n",
              "    fill: var(--disabled-fill-color);\n",
              "    box-shadow: none;\n",
              "  }\n",
              "\n",
              "  .colab-df-spinner {\n",
              "    border: 2px solid var(--fill-color);\n",
              "    border-color: transparent;\n",
              "    border-bottom-color: var(--fill-color);\n",
              "    animation:\n",
              "      spin 1s steps(1) infinite;\n",
              "  }\n",
              "\n",
              "  @keyframes spin {\n",
              "    0% {\n",
              "      border-color: transparent;\n",
              "      border-bottom-color: var(--fill-color);\n",
              "      border-left-color: var(--fill-color);\n",
              "    }\n",
              "    20% {\n",
              "      border-color: transparent;\n",
              "      border-left-color: var(--fill-color);\n",
              "      border-top-color: var(--fill-color);\n",
              "    }\n",
              "    30% {\n",
              "      border-color: transparent;\n",
              "      border-left-color: var(--fill-color);\n",
              "      border-top-color: var(--fill-color);\n",
              "      border-right-color: var(--fill-color);\n",
              "    }\n",
              "    40% {\n",
              "      border-color: transparent;\n",
              "      border-right-color: var(--fill-color);\n",
              "      border-top-color: var(--fill-color);\n",
              "    }\n",
              "    60% {\n",
              "      border-color: transparent;\n",
              "      border-right-color: var(--fill-color);\n",
              "    }\n",
              "    80% {\n",
              "      border-color: transparent;\n",
              "      border-right-color: var(--fill-color);\n",
              "      border-bottom-color: var(--fill-color);\n",
              "    }\n",
              "    90% {\n",
              "      border-color: transparent;\n",
              "      border-bottom-color: var(--fill-color);\n",
              "    }\n",
              "  }\n",
              "</style>\n",
              "\n",
              "  <script>\n",
              "    async function quickchart(key) {\n",
              "      const quickchartButtonEl =\n",
              "        document.querySelector('#' + key + ' button');\n",
              "      quickchartButtonEl.disabled = true;  // To prevent multiple clicks.\n",
              "      quickchartButtonEl.classList.add('colab-df-spinner');\n",
              "      try {\n",
              "        const charts = await google.colab.kernel.invokeFunction(\n",
              "            'suggestCharts', [key], {});\n",
              "      } catch (error) {\n",
              "        console.error('Error during call to suggestCharts:', error);\n",
              "      }\n",
              "      quickchartButtonEl.classList.remove('colab-df-spinner');\n",
              "      quickchartButtonEl.classList.add('colab-df-quickchart-complete');\n",
              "    }\n",
              "    (() => {\n",
              "      let quickchartButtonEl =\n",
              "        document.querySelector('#df-0f2559c4-3583-42fc-b0f1-240c942b9a65 button');\n",
              "      quickchartButtonEl.style.display =\n",
              "        google.colab.kernel.accessAllowed ? 'block' : 'none';\n",
              "    })();\n",
              "  </script>\n",
              "</div>\n",
              "    </div>\n",
              "  </div>\n"
            ]
          },
          "metadata": {},
          "execution_count": 49
        }
      ]
    },
    {
      "cell_type": "code",
      "source": [
        "#checking for Null values\n",
        "train_df.info()\n",
        "print()\n",
        "test_df.info()\n",
        "print()\n"
      ],
      "metadata": {
        "colab": {
          "base_uri": "https://localhost:8080/"
        },
        "id": "jHSjUMH-s75r",
        "outputId": "ef84e9a6-5e59-44f4-c843-a9d1eb1c3645"
      },
      "execution_count": null,
      "outputs": [
        {
          "output_type": "stream",
          "name": "stdout",
          "text": [
            "<class 'pandas.core.frame.DataFrame'>\n",
            "RangeIndex: 4700 entries, 0 to 4699\n",
            "Data columns (total 3 columns):\n",
            " #   Column   Non-Null Count  Dtype \n",
            "---  ------   --------------  ----- \n",
            " 0   Tag      4700 non-null   object\n",
            " 1   Comment  4700 non-null   object\n",
            " 2   Labels   4700 non-null   object\n",
            "dtypes: object(3)\n",
            "memory usage: 110.3+ KB\n",
            "\n",
            "<class 'pandas.core.frame.DataFrame'>\n",
            "RangeIndex: 940 entries, 0 to 939\n",
            "Data columns (total 3 columns):\n",
            " #   Column   Non-Null Count  Dtype \n",
            "---  ------   --------------  ----- \n",
            " 0   Tag      940 non-null    object\n",
            " 1   Comment  940 non-null    object\n",
            " 2   Labels   940 non-null    object\n",
            "dtypes: object(3)\n",
            "memory usage: 22.2+ KB\n",
            "\n"
          ]
        }
      ]
    },
    {
      "cell_type": "code",
      "source": [
        "train_df[\"Tag\"].value_counts()"
      ],
      "metadata": {
        "colab": {
          "base_uri": "https://localhost:8080/"
        },
        "id": "eyIujVYxs78c",
        "outputId": "dc35cca1-ca0f-480a-a076-cf88b0cb3360"
      },
      "execution_count": null,
      "outputs": [
        {
          "output_type": "execute_result",
          "data": {
            "text/plain": [
              "happy       1500\n",
              "sad         1000\n",
              "angry       1000\n",
              "disgust      500\n",
              "surprise     400\n",
              "fear         300\n",
              "Name: Tag, dtype: int64"
            ]
          },
          "metadata": {},
          "execution_count": 51
        }
      ]
    },
    {
      "cell_type": "code",
      "source": [
        "test_df[\"Tag\"].value_counts()"
      ],
      "metadata": {
        "colab": {
          "base_uri": "https://localhost:8080/"
        },
        "id": "ReU8pcTyu-Uk",
        "outputId": "58624941-98b5-4204-b691-dd88c0bce94a"
      },
      "execution_count": null,
      "outputs": [
        {
          "output_type": "execute_result",
          "data": {
            "text/plain": [
              "happy       300\n",
              "angry       200\n",
              "sad         200\n",
              "disgust     100\n",
              "surprise     80\n",
              "fear         60\n",
              "Name: Tag, dtype: int64"
            ]
          },
          "metadata": {},
          "execution_count": 52
        }
      ]
    },
    {
      "cell_type": "code",
      "source": [
        "#sample text from dataset\n",
        "sample = train_df[\"Comment\"][1]\n",
        "print(sample)"
      ],
      "metadata": {
        "colab": {
          "base_uri": "https://localhost:8080/"
        },
        "id": "COexrYrn1K7p",
        "outputId": "59c75876-f367-43c6-bcb1-a059a8ca7e3e"
      },
      "execution_count": null,
      "outputs": [
        {
          "output_type": "stream",
          "name": "stdout",
          "text": [
            "তদন্ত করে লাভ কী ? কোন দিন কোন তদন্তের পর কিছু হয়েছে বলে কী আপনার মন পরে ? রাজনৈতিক শক্তির সামনে তদন্ত কিছুই করতে পারবে না ! আর তাই আমাদের সামান্য মাথাব্যাথা, পেট ব্যাথা হলে বা কলে পরিস্কার পানি না পেলে, সঠিক বিচার না পেলে আমরা আমাদের মাননীয় প্রধামন্ত্রীর দৃস্টি আর্কষন করে থাকি ! কিন্তু সকল দায়িত্ব কী তার একা ? তিনিই বা কেন লাথি দিয়ে এদের বহিস্কার করতে পারে না ?\n"
          ]
        }
      ]
    },
    {
      "cell_type": "code",
      "source": [
        "print(train_df.columns)"
      ],
      "metadata": {
        "colab": {
          "base_uri": "https://localhost:8080/"
        },
        "id": "7wNhETrG1u2m",
        "outputId": "f33583c7-e92c-4e97-e29e-713e627a55f9"
      },
      "execution_count": null,
      "outputs": [
        {
          "output_type": "stream",
          "name": "stdout",
          "text": [
            "Index(['Tag', 'Comment', 'Labels'], dtype='object')\n"
          ]
        }
      ]
    },
    {
      "cell_type": "code",
      "source": [
        "x_train, x_test, y_train, y_test = train_df[\"Comment\"], test_df[\"Comment\"], train_df[\"Labels\"], test_df[\"Labels\"]"
      ],
      "metadata": {
        "id": "nWqdauFlu-gB"
      },
      "execution_count": null,
      "outputs": []
    },
    {
      "cell_type": "code",
      "source": [
        "from keras.utils import to_categorical\n",
        "from keras.preprocessing.text import Tokenizer\n",
        "from keras.preprocessing.sequence import pad_sequences\n",
        "\n",
        "import tensorflow as tf\n",
        "from keras import layers\n",
        "from keras.models import Sequential\n",
        "\n",
        "EPOCHS= 50\n",
        "act= \"swish\"\n",
        "opt= tf.keras.optimizers.Adam(learning_rate=0.001)"
      ],
      "metadata": {
        "id": "SkH-lgpEu-rD"
      },
      "execution_count": null,
      "outputs": []
    },
    {
      "cell_type": "code",
      "source": [
        "#converting text to vectors via tokenization\n",
        "tokenizer = Tokenizer()\n",
        "tokenizer.fit_on_texts(x_train)\n",
        "\n",
        "X_train = tokenizer.texts_to_sequences(x_train)\n",
        "X_test = tokenizer.texts_to_sequences(x_test)\n",
        "TEST = tokenizer.texts_to_sequences(test_df[\"Comment\"])\n",
        "\n",
        "vocab_size = len(tokenizer.word_index) + 1"
      ],
      "metadata": {
        "id": "4Oj76c5bu-u7"
      },
      "execution_count": null,
      "outputs": []
    },
    {
      "cell_type": "code",
      "source": [
        "#calculating max length of the vector\n",
        "lens_train = [len(i) for i in X_train]\n",
        "lens_test = [len(i) for i in X_test]\n",
        "lens = lens_train + lens_test\n",
        "\n",
        "maxlen = np.max(lens)\n",
        "\n",
        "print('Max len:', maxlen)"
      ],
      "metadata": {
        "colab": {
          "base_uri": "https://localhost:8080/"
        },
        "id": "6xZ_Jh8hu-xN",
        "outputId": "e9c17c13-a9f5-4687-b2eb-896c214bd124"
      },
      "execution_count": null,
      "outputs": [
        {
          "output_type": "stream",
          "name": "stdout",
          "text": [
            "Max len: 584\n"
          ]
        }
      ]
    },
    {
      "cell_type": "code",
      "source": [
        "#Zero padding every vector so that they are the same size\n",
        "X_train = pad_sequences(X_train, padding='post', maxlen=maxlen)\n",
        "X_test = pad_sequences(X_test, padding='post', maxlen=maxlen)\n",
        "TEST = pad_sequences(TEST, padding='post', maxlen=maxlen)"
      ],
      "metadata": {
        "id": "Lf71udOAu-0d"
      },
      "execution_count": null,
      "outputs": []
    },
    {
      "cell_type": "code",
      "source": [
        "from keras.utils import to_categorical\n",
        "\n",
        "dummy_y_test = to_categorical(y_test, num_classes=6)\n",
        "dummy_y_train = to_categorical(y_train, num_classes=6)\n"
      ],
      "metadata": {
        "id": "JGSX8cSPu-32"
      },
      "execution_count": null,
      "outputs": []
    },
    {
      "cell_type": "code",
      "source": [
        "!pip install fasttext\n",
        "import fasttext.util\n"
      ],
      "metadata": {
        "colab": {
          "base_uri": "https://localhost:8080/"
        },
        "id": "0o6ZYA-64Qo1",
        "outputId": "0c048ce0-45ef-4cf9-8dd7-c5a065b93c49"
      },
      "execution_count": null,
      "outputs": [
        {
          "output_type": "stream",
          "name": "stdout",
          "text": [
            "Requirement already satisfied: fasttext in /usr/local/lib/python3.10/dist-packages (0.9.2)\n",
            "Requirement already satisfied: pybind11>=2.2 in /usr/local/lib/python3.10/dist-packages (from fasttext) (2.11.1)\n",
            "Requirement already satisfied: setuptools>=0.7.0 in /usr/local/lib/python3.10/dist-packages (from fasttext) (67.7.2)\n",
            "Requirement already satisfied: numpy in /usr/local/lib/python3.10/dist-packages (from fasttext) (1.23.5)\n"
          ]
        }
      ]
    },
    {
      "cell_type": "code",
      "source": [
        "#fasttext.util.download_model('bn', if_exists='ignore')"
      ],
      "metadata": {
        "id": "Zifs_KaX7u3G"
      },
      "execution_count": null,
      "outputs": []
    },
    {
      "cell_type": "code",
      "source": [
        "#ft = '/content/gdrive/MyDrive/SoftCom Lab/Dataset/cc.bn.300.bin'"
      ],
      "metadata": {
        "id": "BTDAl5-A7ugX"
      },
      "execution_count": null,
      "outputs": []
    },
    {
      "cell_type": "code",
      "source": [
        "import fasttext\n",
        "\n",
        "# Load the pre-trained FastText word vectors for Bengali\n",
        "ft_model_path = '/content/gdrive/MyDrive/SoftCom Lab/Dataset/cc.bn.300.bin'  # Replace with the correct path\n",
        "\n",
        "# Function to get word vectors\n",
        "def get_embedding_vectors(tokenizer, model_path, dim=300):\n",
        "    embedding_matrix = np.zeros((len(tokenizer.word_index) + 1, dim))\n",
        "\n",
        "    # Load the FastText model\n",
        "    ft_model = fasttext.load_model(model_path)\n",
        "\n",
        "    for word, i in tokenizer.word_index.items():\n",
        "        try:\n",
        "            embedding_vector = ft_model.get_word_vector(word)\n",
        "            embedding_matrix[i] = embedding_vector\n",
        "        except KeyError:\n",
        "            pass  # Word not found in FastText model\n",
        "\n",
        "    return embedding_matrix\n",
        "\n",
        "# Get the embedding matrix using the loaded model\n",
        "embedding_matrix = get_embedding_vectors(tokenizer, ft_model_path)\n"
      ],
      "metadata": {
        "colab": {
          "base_uri": "https://localhost:8080/"
        },
        "id": "Q1BPu25Xu-6k",
        "outputId": "7fb8b60b-5acb-42df-d936-0dd0a583f072"
      },
      "execution_count": null,
      "outputs": [
        {
          "output_type": "stream",
          "name": "stderr",
          "text": [
            "Warning : `load_model` does not return WordVectorModel or SupervisedModel any more, but a `FastText` object which is very similar.\n"
          ]
        }
      ]
    },
    {
      "cell_type": "code",
      "source": [
        "#embedding_matrix = get_embedding_vectors(tokenizer)"
      ],
      "metadata": {
        "id": "QAosIdrvu--P"
      },
      "execution_count": null,
      "outputs": []
    },
    {
      "cell_type": "code",
      "source": [
        "#defining CNN-BiLSTM model\n",
        "embedding_dim = 300\n",
        "\n",
        "model = Sequential()\n",
        "model.add(layers.Embedding(input_dim=vocab_size, output_dim=embedding_dim, weights = [embedding_matrix], input_length=maxlen))\n",
        "model.add(layers.Dropout(0.5))\n",
        "model.add(layers.Conv1D(filters=64, kernel_size=3, activation=act))\n",
        "model.add(layers.MaxPool1D(pool_size=3))\n",
        "model.add(layers.Dropout(0.5))\n",
        "model.add(layers.Conv1D(filters=64, kernel_size=3, activation=act))\n",
        "model.add(layers.MaxPool1D(pool_size=3))\n",
        "model.add(layers.Dropout(0.5))\n",
        "model.add(layers.Bidirectional(layers.LSTM(128)))\n",
        "model.add(layers.Dropout(0.5))\n",
        "model.add(layers.Dense(256,activation=act))\n",
        "model.add(layers.Dropout(0.5))\n",
        "model.add(layers.Dense(6, activation=\"softmax\"))\n",
        "model.compile(optimizer=opt, loss=\"categorical_crossentropy\",metrics=[\"accuracy\"])\n",
        "model.summary()"
      ],
      "metadata": {
        "colab": {
          "base_uri": "https://localhost:8080/"
        },
        "id": "-i3m7Hlk2XWP",
        "outputId": "5851a8d0-74d2-4128-f364-6d75c8e943b0"
      },
      "execution_count": null,
      "outputs": [
        {
          "output_type": "stream",
          "name": "stdout",
          "text": [
            "Model: \"sequential_3\"\n",
            "_________________________________________________________________\n",
            " Layer (type)                Output Shape              Param #   \n",
            "=================================================================\n",
            " embedding_3 (Embedding)     (None, 584, 300)          5178600   \n",
            "                                                                 \n",
            " dropout_15 (Dropout)        (None, 584, 300)          0         \n",
            "                                                                 \n",
            " conv1d_6 (Conv1D)           (None, 582, 64)           57664     \n",
            "                                                                 \n",
            " max_pooling1d_6 (MaxPoolin  (None, 194, 64)           0         \n",
            " g1D)                                                            \n",
            "                                                                 \n",
            " dropout_16 (Dropout)        (None, 194, 64)           0         \n",
            "                                                                 \n",
            " conv1d_7 (Conv1D)           (None, 192, 64)           12352     \n",
            "                                                                 \n",
            " max_pooling1d_7 (MaxPoolin  (None, 64, 64)            0         \n",
            " g1D)                                                            \n",
            "                                                                 \n",
            " dropout_17 (Dropout)        (None, 64, 64)            0         \n",
            "                                                                 \n",
            " bidirectional_3 (Bidirecti  (None, 256)               197632    \n",
            " onal)                                                           \n",
            "                                                                 \n",
            " dropout_18 (Dropout)        (None, 256)               0         \n",
            "                                                                 \n",
            " dense_6 (Dense)             (None, 256)               65792     \n",
            "                                                                 \n",
            " dropout_19 (Dropout)        (None, 256)               0         \n",
            "                                                                 \n",
            " dense_7 (Dense)             (None, 6)                 1542      \n",
            "                                                                 \n",
            "=================================================================\n",
            "Total params: 5513582 (21.03 MB)\n",
            "Trainable params: 5513582 (21.03 MB)\n",
            "Non-trainable params: 0 (0.00 Byte)\n",
            "_________________________________________________________________\n"
          ]
        }
      ]
    },
    {
      "cell_type": "code",
      "source": [
        "checkpoint_filepath = './Checkpoint/checkpoint'\n",
        "model_checkpoint_callback = tf.keras.callbacks.ModelCheckpoint(\n",
        "    filepath=checkpoint_filepath,\n",
        "    save_weights_only=True,\n",
        "    monitor='val_accuracy',\n",
        "    mode='max',\n",
        "    save_best_only=True)"
      ],
      "metadata": {
        "id": "i7DSxO9B2XiU"
      },
      "execution_count": null,
      "outputs": []
    },
    {
      "cell_type": "code",
      "source": [
        "history = model.fit(X_train, dummy_y_train, epochs=EPOCHS, verbose=1, validation_data=(X_test, dummy_y_test), batch_size=8, callbacks=[model_checkpoint_callback])\n",
        "loss, accuracy = model.evaluate(X_train, dummy_y_train, verbose=0)\n",
        "print(\"Training Accuracy: {:.4f}\".format(accuracy))\n",
        "loss, accuracy = model.evaluate(X_test, dummy_y_test, verbose=0)\n",
        "print(\"Testing Accuracy:  {:.4f}\".format(accuracy))"
      ],
      "metadata": {
        "colab": {
          "base_uri": "https://localhost:8080/"
        },
        "id": "qp1bU6tL2Xte",
        "outputId": "abf31d87-9eb7-4923-c30f-8d1570907b69"
      },
      "execution_count": null,
      "outputs": [
        {
          "output_type": "stream",
          "name": "stdout",
          "text": [
            "Epoch 1/50\n",
            "588/588 [==============================] - 46s 62ms/step - loss: 1.6263 - accuracy: 0.3389 - val_loss: 1.4510 - val_accuracy: 0.4085\n",
            "Epoch 2/50\n",
            "588/588 [==============================] - 14s 24ms/step - loss: 1.4135 - accuracy: 0.4455 - val_loss: 1.3431 - val_accuracy: 0.4766\n",
            "Epoch 3/50\n",
            "588/588 [==============================] - 13s 22ms/step - loss: 1.1925 - accuracy: 0.5477 - val_loss: 1.3133 - val_accuracy: 0.5021\n",
            "Epoch 4/50\n",
            "588/588 [==============================] - 13s 21ms/step - loss: 0.9951 - accuracy: 0.6377 - val_loss: 1.3733 - val_accuracy: 0.5234\n",
            "Epoch 5/50\n",
            "588/588 [==============================] - 12s 21ms/step - loss: 0.8126 - accuracy: 0.6987 - val_loss: 1.5610 - val_accuracy: 0.5011\n",
            "Epoch 6/50\n",
            "588/588 [==============================] - 11s 19ms/step - loss: 0.7003 - accuracy: 0.7421 - val_loss: 1.6582 - val_accuracy: 0.4947\n",
            "Epoch 7/50\n",
            "588/588 [==============================] - 11s 19ms/step - loss: 0.5976 - accuracy: 0.7785 - val_loss: 2.0708 - val_accuracy: 0.4777\n",
            "Epoch 8/50\n",
            "588/588 [==============================] - 11s 19ms/step - loss: 0.4968 - accuracy: 0.8140 - val_loss: 1.9777 - val_accuracy: 0.4628\n",
            "Epoch 9/50\n",
            "588/588 [==============================] - 11s 19ms/step - loss: 0.4090 - accuracy: 0.8532 - val_loss: 2.1666 - val_accuracy: 0.4670\n",
            "Epoch 10/50\n",
            "588/588 [==============================] - 11s 18ms/step - loss: 0.3553 - accuracy: 0.8755 - val_loss: 2.3828 - val_accuracy: 0.4255\n",
            "Epoch 11/50\n",
            "588/588 [==============================] - 11s 19ms/step - loss: 0.3213 - accuracy: 0.8928 - val_loss: 2.3510 - val_accuracy: 0.4681\n",
            "Epoch 12/50\n",
            "588/588 [==============================] - 10s 18ms/step - loss: 0.2647 - accuracy: 0.9136 - val_loss: 2.4233 - val_accuracy: 0.4511\n",
            "Epoch 13/50\n",
            "588/588 [==============================] - 10s 17ms/step - loss: 0.2571 - accuracy: 0.9181 - val_loss: 2.6020 - val_accuracy: 0.4415\n",
            "Epoch 14/50\n",
            "588/588 [==============================] - 10s 18ms/step - loss: 0.2219 - accuracy: 0.9283 - val_loss: 2.6372 - val_accuracy: 0.4436\n",
            "Epoch 15/50\n",
            "588/588 [==============================] - 10s 17ms/step - loss: 0.2059 - accuracy: 0.9345 - val_loss: 2.7837 - val_accuracy: 0.4404\n",
            "Epoch 16/50\n",
            "588/588 [==============================] - 11s 18ms/step - loss: 0.1958 - accuracy: 0.9402 - val_loss: 2.7494 - val_accuracy: 0.4362\n",
            "Epoch 17/50\n",
            "588/588 [==============================] - 11s 18ms/step - loss: 0.1851 - accuracy: 0.9434 - val_loss: 2.8912 - val_accuracy: 0.4191\n",
            "Epoch 18/50\n",
            "588/588 [==============================] - 10s 17ms/step - loss: 0.1732 - accuracy: 0.9466 - val_loss: 2.8279 - val_accuracy: 0.4277\n",
            "Epoch 19/50\n",
            "588/588 [==============================] - 10s 18ms/step - loss: 0.1498 - accuracy: 0.9511 - val_loss: 2.7408 - val_accuracy: 0.4266\n",
            "Epoch 20/50\n",
            "588/588 [==============================] - 10s 17ms/step - loss: 0.1372 - accuracy: 0.9587 - val_loss: 3.0775 - val_accuracy: 0.4277\n",
            "Epoch 21/50\n",
            "588/588 [==============================] - 10s 17ms/step - loss: 0.1457 - accuracy: 0.9557 - val_loss: 2.8651 - val_accuracy: 0.4181\n",
            "Epoch 22/50\n",
            "588/588 [==============================] - 9s 16ms/step - loss: 0.1486 - accuracy: 0.9540 - val_loss: 2.9273 - val_accuracy: 0.4468\n",
            "Epoch 23/50\n",
            "588/588 [==============================] - 10s 17ms/step - loss: 0.1349 - accuracy: 0.9619 - val_loss: 3.1057 - val_accuracy: 0.4362\n",
            "Epoch 24/50\n",
            "588/588 [==============================] - 10s 17ms/step - loss: 0.1189 - accuracy: 0.9662 - val_loss: 3.2456 - val_accuracy: 0.4266\n",
            "Epoch 25/50\n",
            "588/588 [==============================] - 10s 18ms/step - loss: 0.1240 - accuracy: 0.9647 - val_loss: 3.1349 - val_accuracy: 0.4309\n",
            "Epoch 26/50\n",
            "588/588 [==============================] - 9s 16ms/step - loss: 0.1243 - accuracy: 0.9617 - val_loss: 3.1806 - val_accuracy: 0.4170\n",
            "Epoch 27/50\n",
            "588/588 [==============================] - 10s 17ms/step - loss: 0.1059 - accuracy: 0.9694 - val_loss: 3.3051 - val_accuracy: 0.4170\n",
            "Epoch 28/50\n",
            "588/588 [==============================] - 10s 17ms/step - loss: 0.0958 - accuracy: 0.9721 - val_loss: 3.3974 - val_accuracy: 0.4160\n",
            "Epoch 29/50\n",
            "588/588 [==============================] - 10s 17ms/step - loss: 0.1016 - accuracy: 0.9694 - val_loss: 3.5982 - val_accuracy: 0.4277\n",
            "Epoch 30/50\n",
            "588/588 [==============================] - 9s 15ms/step - loss: 0.1025 - accuracy: 0.9704 - val_loss: 3.3605 - val_accuracy: 0.4234\n",
            "Epoch 31/50\n",
            "588/588 [==============================] - 10s 17ms/step - loss: 0.0930 - accuracy: 0.9721 - val_loss: 3.4064 - val_accuracy: 0.4287\n",
            "Epoch 32/50\n",
            "588/588 [==============================] - 10s 17ms/step - loss: 0.0820 - accuracy: 0.9760 - val_loss: 4.0280 - val_accuracy: 0.4213\n",
            "Epoch 33/50\n",
            "588/588 [==============================] - 11s 18ms/step - loss: 0.0884 - accuracy: 0.9753 - val_loss: 4.0995 - val_accuracy: 0.4298\n",
            "Epoch 34/50\n",
            "588/588 [==============================] - 11s 18ms/step - loss: 0.0950 - accuracy: 0.9749 - val_loss: 3.7160 - val_accuracy: 0.4170\n",
            "Epoch 35/50\n",
            "588/588 [==============================] - 11s 19ms/step - loss: 0.1016 - accuracy: 0.9730 - val_loss: 3.6693 - val_accuracy: 0.4085\n",
            "Epoch 36/50\n",
            "588/588 [==============================] - 10s 17ms/step - loss: 0.0862 - accuracy: 0.9753 - val_loss: 3.7398 - val_accuracy: 0.4117\n",
            "Epoch 37/50\n",
            "588/588 [==============================] - 10s 17ms/step - loss: 0.0991 - accuracy: 0.9749 - val_loss: 3.6306 - val_accuracy: 0.4223\n",
            "Epoch 38/50\n",
            "588/588 [==============================] - 9s 16ms/step - loss: 0.0896 - accuracy: 0.9749 - val_loss: 3.6480 - val_accuracy: 0.4138\n",
            "Epoch 39/50\n",
            "588/588 [==============================] - 10s 17ms/step - loss: 0.0819 - accuracy: 0.9777 - val_loss: 3.8897 - val_accuracy: 0.4213\n",
            "Epoch 40/50\n",
            "588/588 [==============================] - 10s 17ms/step - loss: 0.0895 - accuracy: 0.9740 - val_loss: 3.8110 - val_accuracy: 0.4223\n",
            "Epoch 41/50\n",
            "588/588 [==============================] - 10s 17ms/step - loss: 0.0915 - accuracy: 0.9768 - val_loss: 3.8503 - val_accuracy: 0.4191\n",
            "Epoch 42/50\n",
            "588/588 [==============================] - 9s 16ms/step - loss: 0.0851 - accuracy: 0.9777 - val_loss: 3.9908 - val_accuracy: 0.4319\n",
            "Epoch 43/50\n",
            "588/588 [==============================] - 10s 17ms/step - loss: 0.0898 - accuracy: 0.9757 - val_loss: 3.9054 - val_accuracy: 0.4138\n",
            "Epoch 44/50\n",
            "588/588 [==============================] - 10s 18ms/step - loss: 0.0944 - accuracy: 0.9743 - val_loss: 3.8493 - val_accuracy: 0.4266\n",
            "Epoch 45/50\n",
            "588/588 [==============================] - 10s 17ms/step - loss: 0.0804 - accuracy: 0.9777 - val_loss: 4.2649 - val_accuracy: 0.4277\n",
            "Epoch 46/50\n",
            "588/588 [==============================] - 9s 16ms/step - loss: 0.0880 - accuracy: 0.9772 - val_loss: 4.0002 - val_accuracy: 0.4213\n",
            "Epoch 47/50\n",
            "588/588 [==============================] - 10s 17ms/step - loss: 0.0825 - accuracy: 0.9781 - val_loss: 3.9989 - val_accuracy: 0.4245\n",
            "Epoch 48/50\n",
            "588/588 [==============================] - 10s 17ms/step - loss: 0.0833 - accuracy: 0.9787 - val_loss: 4.0877 - val_accuracy: 0.4117\n",
            "Epoch 49/50\n",
            "588/588 [==============================] - 10s 17ms/step - loss: 0.0794 - accuracy: 0.9785 - val_loss: 3.7966 - val_accuracy: 0.4181\n",
            "Epoch 50/50\n",
            "588/588 [==============================] - 9s 15ms/step - loss: 0.0758 - accuracy: 0.9821 - val_loss: 3.9232 - val_accuracy: 0.4223\n",
            "Training Accuracy: 0.9915\n",
            "Testing Accuracy:  0.4223\n"
          ]
        }
      ]
    },
    {
      "cell_type": "code",
      "source": [
        "def PlotGraph(history):\n",
        "    acc = history.history['accuracy']\n",
        "    val_acc = history.history['val_accuracy']\n",
        "    loss = history.history['loss']\n",
        "    val_loss = history.history['val_loss']\n",
        "    x = range(1, len(acc) + 1)\n",
        "\n",
        "    plt.figure(figsize=(12, 5))\n",
        "    plt.subplot(1, 2, 1)\n",
        "    plt.plot(x, acc, 'g', label='Training acc')\n",
        "    plt.plot(x, val_acc, 'b', label='Validation acc')\n",
        "    plt.title('Training and validation accuracy')\n",
        "    plt.legend()\n",
        "    plt.subplot(1, 2, 2)\n",
        "    plt.plot(x, loss, 'g', label='Training loss')\n",
        "    plt.plot(x, val_loss, 'b', label='Validation loss')\n",
        "    plt.title('Training and validation loss')\n",
        "    plt.legend()"
      ],
      "metadata": {
        "id": "Kd67jVpwpB7C"
      },
      "execution_count": null,
      "outputs": []
    },
    {
      "cell_type": "code",
      "source": [
        "PlotGraph(history)"
      ],
      "metadata": {
        "id": "AFEpR0-fpCDC",
        "colab": {
          "base_uri": "https://localhost:8080/",
          "height": 468
        },
        "outputId": "90fce911-abd7-410e-9fd5-867801bd9a99"
      },
      "execution_count": null,
      "outputs": [
        {
          "output_type": "display_data",
          "data": {
            "text/plain": [
              "<Figure size 1200x500 with 2 Axes>"
            ],
            "image/png": "[encoded data removed]"
          },
          "metadata": {}
        }
      ]
    },
    {
      "cell_type": "code",
      "source": [
        "print(f\"Best Accuracy Achieved by Model: {max(history.history['val_accuracy'])}\")"
      ],
      "metadata": {
        "id": "zu2upNULpCIr",
        "colab": {
          "base_uri": "https://localhost:8080/"
        },
        "outputId": "849ebb1f-7ba1-48a8-d21a-1c05f3655b56"
      },
      "execution_count": null,
      "outputs": [
        {
          "output_type": "stream",
          "name": "stdout",
          "text": [
            "Best Accuracy Achieved by Model: 0.5234042406082153\n"
          ]
        }
      ]
    },
    {
      "cell_type": "code",
      "source": [
        "model.load_weights(checkpoint_filepath)"
      ],
      "metadata": {
        "colab": {
          "base_uri": "https://localhost:8080/"
        },
        "id": "wPHjDU1apC47",
        "outputId": "f8e06674-cba3-41a3-897d-9c933dab6a57"
      },
      "execution_count": null,
      "outputs": [
        {
          "output_type": "execute_result",
          "data": {
            "text/plain": [
              "<tensorflow.python.checkpoint.checkpoint.CheckpointLoadStatus at 0x791a1dd58be0>"
            ]
          },
          "metadata": {},
          "execution_count": 72
        }
      ]
    },
    {
      "cell_type": "code",
      "source": [
        "predict = model.predict(TEST)\n",
        "predict_class = np.argmax(predict, axis=1)\n",
        "predict_class = np.array(predict_class)\n",
        "predict_class"
      ],
      "metadata": {
        "colab": {
          "base_uri": "https://localhost:8080/"
        },
        "id": "9_O4srpfpC9F",
        "outputId": "38e85e56-f36c-4fde-8fa3-27915208cf08"
      },
      "execution_count": null,
      "outputs": [
        {
          "output_type": "stream",
          "name": "stdout",
          "text": [
            "30/30 [==============================] - 1s 7ms/step\n"
          ]
        },
        {
          "output_type": "execute_result",
          "data": {
            "text/plain": [
              "array([1, 1, 1, 1, 1, 1, 1, 1, 1, 1, 1, 1, 1, 1, 1, 1, 1, 1, 1, 1, 1, 1,\n",
              "       0, 3, 0, 1, 1, 1, 1, 1, 1, 1, 1, 1, 1, 1, 1, 3, 1, 1, 1, 1, 1, 1,\n",
              "       1, 1, 1, 1, 3, 1, 1, 1, 3, 1, 0, 1, 3, 0, 1, 1, 1, 1, 1, 1, 1, 1,\n",
              "       3, 3, 3, 3, 1, 0, 1, 1, 1, 0, 1, 3, 1, 3, 3, 3, 3, 1, 1, 1, 1, 1,\n",
              "       3, 1, 3, 1, 1, 1, 1, 1, 1, 1, 1, 3, 3, 0, 3, 1, 1, 1, 0, 3, 0, 3,\n",
              "       0, 1, 1, 1, 1, 3, 1, 1, 1, 3, 3, 1, 1, 1, 1, 3, 1, 3, 1, 3, 1, 3,\n",
              "       1, 3, 1, 1, 1, 1, 3, 1, 1, 1, 3, 3, 3, 1, 3, 3, 1, 1, 0, 1, 0, 1,\n",
              "       1, 1, 3, 0, 3, 1, 1, 3, 1, 1, 1, 1, 3, 1, 1, 1, 0, 1, 0, 1, 1, 1,\n",
              "       3, 3, 3, 3, 1, 1, 0, 1, 0, 3, 3, 1, 1, 3, 1, 1, 1, 1, 3, 1, 0, 1,\n",
              "       1, 3, 3, 1, 0, 1, 3, 3, 0, 1, 1, 1, 1, 1, 1, 1, 1, 0, 3, 1, 1, 3,\n",
              "       1, 3, 1, 3, 1, 1, 0, 3, 0, 0, 3, 1, 3, 3, 3, 1, 3, 1, 3, 3, 1, 1,\n",
              "       1, 3, 1, 1, 1, 1, 1, 3, 1, 3, 1, 1, 1, 1, 1, 1, 3, 1, 0, 1, 1, 1,\n",
              "       3, 1, 3, 1, 1, 1, 3, 1, 1, 1, 3, 1, 3, 3, 1, 1, 3, 0, 3, 3, 3, 1,\n",
              "       1, 3, 1, 1, 0, 0, 1, 1, 0, 1, 3, 1, 1, 3, 1, 1, 0, 1, 1, 1, 1, 1,\n",
              "       1, 1, 0, 1, 1, 0, 1, 0, 1, 3, 1, 3, 3, 1, 1, 1, 1, 0, 3, 0, 3, 3,\n",
              "       1, 0, 1, 3, 1, 0, 1, 1, 3, 3, 1, 1, 3, 1, 0, 3, 0, 3, 3, 1, 3, 1,\n",
              "       3, 1, 1, 3, 3, 0, 0, 1, 1, 3, 0, 1, 1, 1, 1, 1, 1, 3, 1, 1, 1, 1,\n",
              "       1, 3, 0, 3, 3, 1, 3, 3, 0, 1, 3, 1, 1, 3, 0, 1, 1, 3, 1, 0, 3, 1,\n",
              "       1, 1, 0, 1, 3, 3, 1, 3, 3, 0, 0, 3, 3, 3, 3, 1, 1, 3, 0, 3, 0, 0,\n",
              "       3, 1, 3, 3, 3, 1, 1, 1, 1, 1, 0, 0, 0, 0, 3, 1, 3, 3, 3, 3, 3, 3,\n",
              "       3, 3, 1, 3, 1, 3, 3, 1, 0, 0, 1, 3, 3, 3, 1, 3, 3, 1, 3, 3, 1, 1,\n",
              "       1, 1, 1, 1, 1, 1, 3, 3, 1, 1, 1, 0, 1, 1, 3, 0, 3, 0, 0, 1, 1, 3,\n",
              "       3, 1, 3, 1, 3, 1, 0, 1, 1, 3, 1, 1, 0, 1, 1, 1, 1, 3, 1, 1, 1, 1,\n",
              "       0, 3, 1, 1, 3, 1, 1, 3, 0, 3, 1, 1, 1, 1, 0, 1, 1, 1, 1, 3, 3, 3,\n",
              "       1, 1, 0, 0, 0, 1, 0, 1, 1, 1, 1, 1, 1, 0, 0, 1, 0, 3, 1, 1, 1, 1,\n",
              "       1, 1, 0, 1, 1, 1, 1, 1, 1, 1, 1, 1, 0, 3, 0, 0, 1, 1, 1, 1, 1, 1,\n",
              "       0, 1, 0, 1, 3, 1, 1, 1, 1, 1, 1, 1, 0, 3, 1, 1, 3, 3, 3, 3, 3, 0,\n",
              "       0, 0, 1, 1, 1, 0, 3, 0, 1, 3, 3, 1, 1, 0, 1, 1, 1, 1, 1, 1, 0, 0,\n",
              "       1, 1, 1, 1, 0, 0, 1, 0, 1, 1, 1, 1, 0, 1, 3, 1, 1, 1, 1, 0, 0, 1,\n",
              "       1, 1, 0, 0, 1, 0, 0, 0, 0, 0, 0, 0, 0, 0, 0, 1, 0, 0, 0, 0, 3, 0,\n",
              "       0, 1, 1, 0, 1, 1, 0, 0, 0, 0, 0, 1, 0, 3, 1, 0, 1, 0, 3, 0, 0, 1,\n",
              "       0, 0, 0, 0, 0, 0, 0, 0, 0, 0, 0, 0, 0, 1, 0, 1, 0, 0, 0, 0, 0, 0,\n",
              "       1, 0, 0, 0, 0, 0, 0, 1, 1, 0, 0, 1, 0, 0, 0, 0, 0, 1, 1, 0, 1, 0,\n",
              "       1, 0, 0, 0, 0, 1, 0, 0, 0, 1, 0, 1, 0, 3, 1, 0, 1, 0, 0, 0, 0, 0,\n",
              "       0, 0, 0, 0, 0, 0, 0, 0, 0, 0, 0, 1, 0, 0, 0, 0, 0, 0, 0, 0, 0, 0,\n",
              "       0, 0, 3, 0, 0, 0, 0, 0, 0, 3, 0, 0, 0, 0, 0, 0, 0, 0, 0, 0, 0, 1,\n",
              "       0, 0, 0, 0, 0, 0, 0, 0, 0, 0, 0, 1, 0, 0, 0, 0, 0, 0, 0, 0, 0, 0,\n",
              "       0, 3, 0, 0, 0, 0, 0, 0, 0, 0, 0, 0, 0, 0, 0, 0, 0, 0, 0, 0, 0, 0,\n",
              "       0, 0, 0, 0, 0, 0, 0, 0, 0, 0, 0, 0, 0, 3, 0, 0, 0, 0, 0, 0, 3, 0,\n",
              "       3, 0, 0, 1, 0, 0, 0, 0, 0, 0, 0, 1, 0, 0, 1, 0, 0, 0, 0, 0, 0, 0,\n",
              "       1, 0, 1, 0, 0, 0, 0, 0, 0, 0, 0, 0, 1, 0, 1, 0, 0, 0, 0, 0, 0, 0,\n",
              "       1, 0, 0, 0, 0, 3, 0, 0, 0, 0, 0, 0, 0, 0, 0, 0, 0, 0, 0, 0, 0, 0,\n",
              "       0, 0, 1, 0, 0, 0, 1, 0, 1, 0, 1, 0, 0, 3, 0, 3])"
            ]
          },
          "metadata": {},
          "execution_count": 73
        }
      ]
    },
    {
      "cell_type": "code",
      "source": [
        "from sklearn.metrics import confusion_matrix\n",
        "import pandas as pd\n",
        "\n",
        "t_df = pd.to_numeric(test_df[\"Labels\"])\n",
        "\n",
        "cm = confusion_matrix(t_df, predict_class)\n",
        "cm"
      ],
      "metadata": {
        "colab": {
          "base_uri": "https://localhost:8080/"
        },
        "id": "0CqwrZz7piOj",
        "outputId": "d315106a-1e1d-4446-b079-44aa0c18f367"
      },
      "execution_count": null,
      "outputs": [
        {
          "output_type": "execute_result",
          "data": {
            "text/plain": [
              "array([[247,  40,   0,  13,   0,   0],\n",
              "       [ 39, 134,   0,  27,   0,   0],\n",
              "       [  9,  46,   0,   5,   0,   0],\n",
              "       [ 18,  71,   0, 111,   0,   0],\n",
              "       [  5,  67,   0,   8,   0,   0],\n",
              "       [ 24,  56,   0,  20,   0,   0]])"
            ]
          },
          "metadata": {},
          "execution_count": 74
        }
      ]
    },
    {
      "cell_type": "code",
      "source": [
        "df_cm = pd.DataFrame(cm, index=[\"happy\", \"sad\", \"fear\", \"angry\", \"surprise\", \"disgust\"], columns=[\"happy\", \"sad\", \"fear\", \"angry\", \"surprise\", \"disgust\"])\n",
        "plt.figure(figsize = (10,7))\n",
        "sns.heatmap(df_cm,annot=True, fmt =\"d\")\n"
      ],
      "metadata": {
        "colab": {
          "base_uri": "https://localhost:8080/",
          "height": 616
        },
        "id": "q94kzfnV5Nct",
        "outputId": "fb07699a-b0dc-477a-9692-f37265d76db2"
      },
      "execution_count": null,
      "outputs": [
        {
          "output_type": "execute_result",
          "data": {
            "text/plain": [
              "<Axes: >"
            ]
          },
          "metadata": {},
          "execution_count": 75
        },
        {
          "output_type": "display_data",
          "data": {
            "text/plain": [
              "<Figure size 1000x700 with 2 Axes>"
            ],
            "image/png": "[encoded data removed]"
          },
          "metadata": {}
        }
      ]
    },
    {
      "cell_type": "code",
      "source": [
        "from sklearn.metrics import classification_report\n",
        "\n",
        "print(classification_report(t_df, predict_class, target_names =[\"happy\", \"angry\", \"sad\", \"disgust\", \"surprise\", \"fear\"]))"
      ],
      "metadata": {
        "colab": {
          "base_uri": "https://localhost:8080/"
        },
        "id": "FYoTw7c4piBo",
        "outputId": "e13ef254-e299-41d4-b4b6-e5cfa899c5e2"
      },
      "execution_count": null,
      "outputs": [
        {
          "output_type": "stream",
          "name": "stdout",
          "text": [
            "              precision    recall  f1-score   support\n",
            "\n",
            "       happy       0.72      0.82      0.77       300\n",
            "       angry       0.32      0.67      0.44       200\n",
            "         sad       0.00      0.00      0.00        60\n",
            "     disgust       0.60      0.56      0.58       200\n",
            "    surprise       0.00      0.00      0.00        80\n",
            "        fear       0.00      0.00      0.00       100\n",
            "\n",
            "    accuracy                           0.52       940\n",
            "   macro avg       0.27      0.34      0.30       940\n",
            "weighted avg       0.43      0.52      0.46       940\n",
            "\n"
          ]
        },
        {
          "output_type": "stream",
          "name": "stderr",
          "text": [
            "/usr/local/lib/python3.10/dist-packages/sklearn/metrics/_classification.py:1344: UndefinedMetricWarning: Precision and F-score are ill-defined and being set to 0.0 in labels with no predicted samples. Use `zero_division` parameter to control this behavior.\n",
            "  _warn_prf(average, modifier, msg_start, len(result))\n",
            "/usr/local/lib/python3.10/dist-packages/sklearn/metrics/_classification.py:1344: UndefinedMetricWarning: Precision and F-score are ill-defined and being set to 0.0 in labels with no predicted samples. Use `zero_division` parameter to control this behavior.\n",
            "  _warn_prf(average, modifier, msg_start, len(result))\n",
            "/usr/local/lib/python3.10/dist-packages/sklearn/metrics/_classification.py:1344: UndefinedMetricWarning: Precision and F-score are ill-defined and being set to 0.0 in labels with no predicted samples. Use `zero_division` parameter to control this behavior.\n",
            "  _warn_prf(average, modifier, msg_start, len(result))\n"
          ]
        }
      ]
    }
  ]
}